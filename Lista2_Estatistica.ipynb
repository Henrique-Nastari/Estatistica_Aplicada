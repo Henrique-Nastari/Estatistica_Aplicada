{
  "nbformat": 4,
  "nbformat_minor": 0,
  "metadata": {
    "colab": {
      "provenance": [],
      "include_colab_link": true
    },
    "kernelspec": {
      "name": "python3",
      "display_name": "Python 3"
    },
    "language_info": {
      "name": "python"
    }
  },
  "cells": [
    {
      "cell_type": "markdown",
      "metadata": {
        "id": "view-in-github",
        "colab_type": "text"
      },
      "source": [
        "<a href=\"https://colab.research.google.com/github/Henrique-Nastari/Estatistica_Aplicada/blob/main/Lista2_Estatistica.ipynb\" target=\"_parent\"><img src=\"https://colab.research.google.com/assets/colab-badge.svg\" alt=\"Open In Colab\"/></a>"
      ]
    },
    {
      "cell_type": "markdown",
      "source": [
        "#Questão 1: Por que usamos gerados de valores pseudo-aleatórios (PRNG) e não gerados de valores aleatórios reais?\n",
        "\n",
        "Usamos geradores de valores pseudo-aleatórios (PRNGs) em vez de valores aleatórios reais porque:\n",
        "\n",
        "     Controle e Reprodutibilidade: PRNGs permitem reproduzir resultados com a mesma semente.\n",
        "\n",
        "     Eficiência Computacional: PRNGs são mais rápidos e menos exigentes.\n",
        "\n",
        "     Facilidade de Implementação: PRNGs são fáceis de integrar em software.\n",
        "\n",
        "     Custo e Disponibilidade: PRNGs não requerem hardware especializado.\n",
        "\n",
        "     Qualidade da Aleatoriedade: PRNGs são adequados para muitas aplicações práticas, enquanto a aleatoriedade real é usada quando a imprevisibilidade é crucial."
      ],
      "metadata": {
        "id": "ZSIwp3xCyIol"
      }
    },
    {
      "cell_type": "markdown",
      "source": [
        "#Questão 2: Quais são as propriedades dos PRNG?\n",
        "\n",
        "Os geradores de números pseudo-aleatórios (PRNGs) têm as seguintes propriedades principais:\n",
        "\n",
        "    Determinísticos: Geram sequências previsíveis baseadas em uma semente inicial.\n",
        "\n",
        "    Período: A sequência gerada eventualmente se repete após um número determinado de valores.\n",
        "\n",
        "    Uniformidade: Distribuem os valores gerados de forma uniforme dentro do intervalo desejado.\n",
        "\n",
        "    Independência: Os valores gerados devem parecer independentes uns dos outros.\n",
        "\n",
        "    Eficiência: Devem gerar números rapidamente e com baixo custo computacional."
      ],
      "metadata": {
        "id": "opsKy4pKySa9"
      }
    },
    {
      "cell_type": "markdown",
      "source": [
        "#Questão 3: Explique o objetivo do uso de “semente” nos PRNG?\n",
        "\n",
        " O objetivo da semente é:\n",
        "\n",
        "    Permitir que a sequência de números pseudo-aleatórios gerada seja reproduzível.\n",
        "\n",
        "    Oferecer controle sobre a sequência gerada, possibilitando ajustes ou reinicializações da sequência em diferentes execuções ou ambientes.\n",
        "\n",
        "    Permitir que diferentes sementes produzam diferentes sequências de números, aumentando a flexibilidade e a variedade nas simulações e experimentos."
      ],
      "metadata": {
        "id": "51FXGnQYyj1Y"
      }
    },
    {
      "cell_type": "markdown",
      "source": [
        "#Questão 4: Suponha um experimento aleatório que consiste em lançar um dados de 6 faces e observar o valor da sua face superior. Apresente uma sequência de passos para simular esse experimento usando PRNG."
      ],
      "metadata": {
        "id": "8_bgWRo4zdSx"
      }
    },
    {
      "cell_type": "code",
      "source": [
        "\n",
        "\n",
        "import random\n",
        "\n",
        "# 1. Escolher e inicializar a semente\n",
        "random.seed(42)  # A semente pode ser qualquer valor; aqui usamos 42 como exemplo\n",
        "\n",
        "# 2. Gerar um número pseudo-aleatório e escalar para o intervalo [1, 6]\n",
        "numero_aleatorio = random.randint(1, 6)\n",
        "\n",
        "# 3. Observar o resultado\n",
        "print(\"O valor da face superior do dado é:\", numero_aleatorio)\n"
      ],
      "metadata": {
        "colab": {
          "base_uri": "https://localhost:8080/"
        },
        "id": "2__2s3kApFnT",
        "outputId": "6b2b17f1-6710-47bf-a2e4-323714cb1714"
      },
      "execution_count": null,
      "outputs": [
        {
          "output_type": "stream",
          "name": "stdout",
          "text": [
            "O valor da face superior do dado é: 6\n"
          ]
        }
      ]
    },
    {
      "cell_type": "markdown",
      "source": [
        "#Questão 5: Suponha que você possui um conjunto com os seguintes valores {2, 6, 10, 21}. Apresente uma sequência de passos para simular a escolha aleatória de um dos elementos desse conjunto."
      ],
      "metadata": {
        "id": "_6rO78iuz45k"
      }
    },
    {
      "cell_type": "code",
      "source": [
        "\n",
        "\n",
        "import random\n",
        "\n",
        "# 1. Escolher e inicializar a semente\n",
        "random.seed(42)  # A semente pode ser qualquer valor; aqui usamos 42 como exemplo\n",
        "\n",
        "# 2. Definir o conjunto\n",
        "conjunto = [2, 6, 10, 21]\n",
        "\n",
        "# 3. Gerar um número pseudo-aleatório e escalar para o intervalo de índices\n",
        "indice = random.randint(0, len(conjunto) - 1)\n",
        "\n",
        "# 4. Selecionar o elemento correspondente\n",
        "elemento_selecionado = conjunto[indice]\n",
        "\n",
        "# 5. Observar o resultado\n",
        "print(\"Elemento selecionado:\", elemento_selecionado)\n"
      ],
      "metadata": {
        "colab": {
          "base_uri": "https://localhost:8080/"
        },
        "id": "WJ0yIKerqPRZ",
        "outputId": "a539b753-fcfc-4d2d-efa5-8556cbdb9e51"
      },
      "execution_count": null,
      "outputs": [
        {
          "output_type": "stream",
          "name": "stdout",
          "text": [
            "Elemento selecionado: 2\n"
          ]
        }
      ]
    },
    {
      "cell_type": "markdown",
      "source": [
        "#Questão 6: O que é um gerador linear congruencial?\n",
        "\n",
        "Um gerador linear congruencial é um tipo de gerador de números pseudo-aleatórios que usa a fórmula:\n",
        "\n",
        "  \n",
        "\n",
        "Xn+1 = (aXn +c) * mod m\n",
        "\n",
        "    \n",
        "\n",
        "Vantagens:\n",
        "\n",
        "    Simples e fácil de implementar.\n",
        "\n",
        "  \n",
        "\n",
        "Desvantagens:\n",
        "\n",
        "    Pode ter qualidade inferior de aleatoriedade e períodos curtos se os parâmetros não forem bem escolhidos."
      ],
      "metadata": {
        "id": "_fCUk8co0VZT"
      }
    },
    {
      "cell_type": "markdown",
      "source": [
        "#Questão 7: Considere o gerador linear congruencial em que a = 2, c = 1 e M = 16. Gere os 3 primeiros valores desse gerado para a semente 1 e então determine o periódo do gerador."
      ],
      "metadata": {
        "id": "k-JLS-Y00fOn"
      }
    },
    {
      "cell_type": "code",
      "source": [
        "\n",
        "\n",
        "def lcg(a, c, m, seed, num_values):\n",
        "    values = [seed]\n",
        "    for _ in range(num_values - 1):\n",
        "        next_value = (a * values[-1] + c) % m\n",
        "        values.append(next_value)\n",
        "    return values\n",
        "\n",
        "def find_period(a, c, m, seed):\n",
        "    values = []\n",
        "    current_value = seed\n",
        "    while current_value not in values:\n",
        "        values.append(current_value)\n",
        "        current_value = (a * current_value + c) % m\n",
        "    return len(values), values\n",
        "\n",
        "# Parâmetros do LCG\n",
        "a = 2\n",
        "c = 1\n",
        "m = 16\n",
        "seed = 1\n",
        "\n",
        "# Gerar os 3 primeiros valores\n",
        "num_values = 3\n",
        "generated_values = lcg(a, c, m, seed, num_values)\n",
        "print(f\"Os {num_values} primeiros valores gerados: {generated_values}\")\n",
        "\n",
        "# Determinar o período do gerador\n",
        "period_length, period_values = find_period(a, c, m, seed)\n",
        "print(f\"Período do gerador: {period_length}\")\n",
        "print(f\"Valores gerados até começar a repetir: {period_values}\")\n"
      ],
      "metadata": {
        "colab": {
          "base_uri": "https://localhost:8080/"
        },
        "id": "Uhb7msrcrOFV",
        "outputId": "2e86c0ac-8fa5-43b3-d5b5-071d84c57060"
      },
      "execution_count": null,
      "outputs": [
        {
          "output_type": "stream",
          "name": "stdout",
          "text": [
            "Os 3 primeiros valores gerados: [1, 3, 7]\n",
            "Período do gerador: 4\n",
            "Valores gerados até começar a repetir: [1, 3, 7, 15]\n"
          ]
        }
      ]
    },
    {
      "cell_type": "markdown",
      "source": [
        "#Questão 8: Apresente uma sequência de passos para embaralhar uma lista de N valores."
      ],
      "metadata": {
        "id": "nx5Xr_4E0vhq"
      }
    },
    {
      "cell_type": "code",
      "source": [
        "\n",
        "\n",
        "import random\n",
        "\n",
        "def embaralhar_lista(lista):\n",
        "    n = len(lista)\n",
        "    for i in range(n - 1, 0, -1):\n",
        "        # Gerar um índice aleatório entre 0 e i\n",
        "        j = random.randint(0, i)\n",
        "        # Trocar os elementos nos índices i e j\n",
        "        lista[i], lista[j] = lista[j], lista[i]\n",
        "\n",
        "# Exemplo de uso\n",
        "minha_lista = [1, 2, 3, 4, 5]\n",
        "embaralhar_lista(minha_lista)\n",
        "print(\"Lista embaralhada:\", minha_lista)\n"
      ],
      "metadata": {
        "colab": {
          "base_uri": "https://localhost:8080/"
        },
        "id": "99ghohS3r_wb",
        "outputId": "3b1fe53f-7764-44a1-92bf-4e5294ec1396"
      },
      "execution_count": null,
      "outputs": [
        {
          "output_type": "stream",
          "name": "stdout",
          "text": [
            "Lista embaralhada: [2, 4, 5, 3, 1]\n"
          ]
        }
      ]
    },
    {
      "cell_type": "markdown",
      "source": [
        "#Questão 9: Considere a sequência de valores A = <a,b,c,d,e> e que cada um possui a seguinte importância B = <10, 20, 12, 8, 10> respectivamente, ou seja, a importância de ‘a’ é 10, de ‘b’ é 20, e assim por diante. Então, em N escolhas aleatórias com reposição, ‘b’ deve ser selecionado mais vezes. Apresente uma sequência de passos que seleciona um elemento de A seguindo uma distribuição de probabilidade proporcional estabelecida por B."
      ],
      "metadata": {
        "id": "czC12Ps4042D"
      }
    },
    {
      "cell_type": "code",
      "execution_count": null,
      "metadata": {
        "colab": {
          "base_uri": "https://localhost:8080/"
        },
        "id": "m2onpubMoDAx",
        "outputId": "218ae273-d6c8-41cd-c913-461242efbb42"
      },
      "outputs": [
        {
          "output_type": "stream",
          "name": "stdout",
          "text": [
            "Contagem de seleções após 10000 escolhas:\n",
            "{'a': 1630, 'b': 3287, 'c': 2079, 'd': 1343, 'e': 1661}\n"
          ]
        }
      ],
      "source": [
        "\n",
        "\n",
        "import random\n",
        "\n",
        "# Listas de valores e importâncias\n",
        "A = ['a', 'b', 'c', 'd', 'e']\n",
        "B = [10, 20, 12, 8, 10]\n",
        "\n",
        "def selecionar_elemento(A, B):\n",
        "    # Passo 2: Calcular a soma das importâncias\n",
        "    soma_importancias = sum(B)\n",
        "\n",
        "    # Passo 3: Calcular as probabilidades cumulativas\n",
        "    probabilidades = [b / soma_importancias for b in B]\n",
        "    probabilidades_cumulativas = []\n",
        "    acumulado = 0\n",
        "    for p in probabilidades:\n",
        "        acumulado += p\n",
        "        probabilidades_cumulativas.append(acumulado)\n",
        "\n",
        "    # Passo 4: Gerar um número aleatório entre 0 e 1\n",
        "    r = random.random()\n",
        "\n",
        "    # Passo 5: Selecionar o elemento com base no número aleatório\n",
        "    for i, cumulativa in enumerate(probabilidades_cumulativas):\n",
        "        if r < cumulativa:\n",
        "            return A[i]\n",
        "\n",
        "# Exemplo de uso\n",
        "N = 10000  # Número de escolhas aleatórias com reposição\n",
        "contagem_selecoes = {a: 0 for a in A}\n",
        "\n",
        "for _ in range(N):\n",
        "    elemento_selecionado = selecionar_elemento(A, B)\n",
        "    contagem_selecoes[elemento_selecionado] += 1\n",
        "\n",
        "print(\"Contagem de seleções após\", N, \"escolhas:\")\n",
        "print(contagem_selecoes)\n"
      ]
    },
    {
      "cell_type": "markdown",
      "source": [
        "#Questão 10: Explique um método para verificar se a sequência de passos do exercício anterior está correta."
      ],
      "metadata": {
        "id": "gm6w9HIM1Nce"
      }
    },
    {
      "cell_type": "code",
      "source": [
        "\n",
        "\n",
        "import random\n",
        "\n",
        "# Listas de valores e importâncias\n",
        "A = ['a', 'b', 'c', 'd', 'e']\n",
        "B = [10, 20, 12, 8, 10]\n",
        "\n",
        "def selecionar_elemento(A, B):\n",
        "    # Passo 2: Calcular a soma das importâncias\n",
        "    soma_importancias = sum(B)\n",
        "\n",
        "    # Passo 3: Calcular as probabilidades cumulativas\n",
        "    probabilidades = [b / soma_importancias for b in B]\n",
        "    probabilidades_cumulativas = []\n",
        "    acumulado = 0\n",
        "    for p in probabilidades:\n",
        "        acumulado += p\n",
        "        probabilidades_cumulativas.append(acumulado)\n",
        "\n",
        "    # Passo 4: Gerar um número aleatório entre 0 e 1\n",
        "    r = random.random()\n",
        "\n",
        "    # Passo 5: Selecionar o elemento com base no número aleatório\n",
        "    for i, cumulativa in enumerate(probabilidades_cumulativas):\n",
        "        if r < cumulativa:\n",
        "            return A[i]\n",
        "\n",
        "# Exemplo de uso\n",
        "N = 10000  # Número de escolhas aleatórias com reposição\n",
        "contagem_selecoes = {a: 0 for a in A}\n",
        "\n",
        "# Fixar a semente para repetibilidade\n",
        "random.seed(42)\n",
        "\n",
        "for _ in range(N):\n",
        "    elemento_selecionado = selecionar_elemento(A, B)\n",
        "    contagem_selecoes[elemento_selecionado] += 1\n",
        "\n",
        "print(\"Contagem de seleções após\", N, \"escolhas:\")\n",
        "print(contagem_selecoes)\n",
        "\n",
        "# Verificação manual dos cálculos\n",
        "soma_importancias = sum(B)\n",
        "probabilidades = [b / soma_importancias for b in B]\n",
        "probabilidades_cumulativas = []\n",
        "acumulado = 0\n",
        "for p in probabilidades:\n",
        "    acumulado += p\n",
        "    probabilidades_cumulativas.append(acumulado)\n",
        "\n",
        "print(\"Soma das importâncias:\", soma_importancias)\n",
        "print(\"Probabilidades:\", probabilidades)\n",
        "print(\"Probabilidades cumulativas:\", probabilidades_cumulativas)\n"
      ],
      "metadata": {
        "colab": {
          "base_uri": "https://localhost:8080/"
        },
        "id": "aa_8yXlpuRN6",
        "outputId": "0e25a8d5-ed78-4b4b-cf0e-dc4f91d2957d"
      },
      "execution_count": null,
      "outputs": [
        {
          "output_type": "stream",
          "name": "stdout",
          "text": [
            "Contagem de seleções após 10000 escolhas:\n",
            "{'a': 1684, 'b': 3306, 'c': 2033, 'd': 1353, 'e': 1624}\n",
            "Soma das importâncias: 60\n",
            "Probabilidades: [0.16666666666666666, 0.3333333333333333, 0.2, 0.13333333333333333, 0.16666666666666666]\n",
            "Probabilidades cumulativas: [0.16666666666666666, 0.5, 0.7, 0.8333333333333333, 0.9999999999999999]\n"
          ]
        }
      ]
    },
    {
      "cell_type": "markdown",
      "source": [
        "#Questão 11: Um agricultor precisa distribuir fertilizantes de forma uniforme em 10 lotes de terra. Ele possui um total de 100 kg de fertilizante.\n",
        "#a. Gere 10 números aleatórios entre 0 e 1 para simular a distribuição proporcional de fertilizantes em cada lote.\n",
        "#b. Normalize os números gerados para que a soma total seja igual a 100 kg.\n",
        "#c. Determine a quantidade de fertilizante que cada lote receberá."
      ],
      "metadata": {
        "id": "xD83fidb2VAm"
      }
    },
    {
      "cell_type": "code",
      "source": [
        "# A, B e C.\n",
        "\n",
        "import numpy as np\n",
        "\n",
        "# Parte (a): Gerar 10 números aleatórios entre 0 e 1\n",
        "numeros_aleatorios = np.random.rand(10)\n",
        "\n",
        "# Parte (b): Normalizar os números para que a soma total seja igual a 100 kg\n",
        "proporcoes = numeros_aleatorios / sum(numeros_aleatorios) * 100\n",
        "\n",
        "# Parte (c): Determinar a quantidade de fertilizante que cada lote receberá\n",
        "quantidades_fertilizante = proporcoes\n",
        "\n",
        "# Imprimir as quantidades de fertilizante para cada lote\n",
        "for i, quantidade in enumerate(quantidades_fertilizante):\n",
        "    print(f\"Lote {i+1}: {quantidade:.2f} kg\")\n",
        "\n"
      ],
      "metadata": {
        "colab": {
          "base_uri": "https://localhost:8080/"
        },
        "id": "MLb1VgV_2hlE",
        "outputId": "5b157770-3911-4751-9578-0e24676d098b"
      },
      "execution_count": 2,
      "outputs": [
        {
          "output_type": "stream",
          "name": "stdout",
          "text": [
            "Lote 1: 10.31 kg\n",
            "Lote 2: 14.46 kg\n",
            "Lote 3: 17.45 kg\n",
            "Lote 4: 17.66 kg\n",
            "Lote 5: 8.43 kg\n",
            "Lote 6: 2.44 kg\n",
            "Lote 7: 10.00 kg\n",
            "Lote 8: 3.71 kg\n",
            "Lote 9: 6.81 kg\n",
            "Lote 10: 8.73 kg\n"
          ]
        }
      ]
    },
    {
      "cell_type": "markdown",
      "source": [
        "#Questão 12: Em uma fazenda, o agricultor está monitorando a presença de pragas em 20 campos. A probabilidade de um campo estar livre de pragas é de 70%.\n",
        "#a. Gere um conjunto de 20 números aleatórios entre 0 e 1 para simular a presença de pragas em cada campo.\n",
        "#b. Considere que um campo está livre de pragas se o número aleatório gerado for menor que 0,7. Quantos campos estão livres de pragas?\n",
        "#c. Calcule a porcentagem de campos livres de pragas e compare com a probabilidade esperada de 70%."
      ],
      "metadata": {
        "id": "AEbXw9RJ2iI-"
      }
    },
    {
      "cell_type": "code",
      "source": [
        "import numpy as np\n",
        "\n",
        "# Parte (a): Gerar 20 números aleatórios entre 0 e 1\n",
        "numeros_aleatorios = np.random.rand(20)\n",
        "\n",
        "# Parte (b): Determinar quantos campos estão livres de pragas\n",
        "livres_de_pragas = numeros_aleatorios < 0.7\n",
        "campos_livres = np.sum(livres_de_pragas)\n",
        "\n",
        "# Parte (c): Calcular a porcentagem de campos livres de pragas\n",
        "percentual_campos_livres = (campos_livres / 20) * 100\n",
        "\n",
        "# Exibir os resultados\n",
        "print(f\"Números aleatórios gerados: {numeros_aleatorios}\")\n",
        "print(f\"Campos livres de pragas: {campos_livres} de 20\")\n",
        "print(f\"Percentual de campos livres de pragas: {percentual_campos_livres:.2f}%\")\n",
        "print(f\"Probabilidade esperada: 70.00%\")\n"
      ],
      "metadata": {
        "colab": {
          "base_uri": "https://localhost:8080/"
        },
        "id": "IuJxJxBx2xuj",
        "outputId": "050abe03-6f95-44ac-ef4a-f8d352465e85"
      },
      "execution_count": 3,
      "outputs": [
        {
          "output_type": "stream",
          "name": "stdout",
          "text": [
            "Números aleatórios gerados: [0.95463326 0.71056496 0.37785905 0.28464013 0.10315364 0.81429382\n",
            " 0.87639891 0.69650147 0.45585894 0.71534519 0.19529512 0.29908202\n",
            " 0.60546029 0.90833209 0.52002493 0.22335588 0.58301257 0.97381978\n",
            " 0.32735545 0.96660204]\n",
            "Campos livres de pragas: 12 de 20\n",
            "Percentual de campos livres de pragas: 60.00%\n",
            "Probabilidade esperada: 70.00%\n"
          ]
        }
      ]
    },
    {
      "cell_type": "markdown",
      "source": [
        "#Questão 13: Uma fazenda leiteira está medindo a produção de leite de 30 vacas. A produção de leite de cada vaca varia uniformemente entre 10 e 20 litros por dia.\n",
        "#a. Gere 30 números aleatórios entre 10 e 20 para simular a produção diária de leite de cada vaca.\n",
        "#b. Calcule a produção total de leite das 30 vacas em um dia.\n",
        "#c. Determine quantas vacas produzem mais de 15 litros de leite por dia."
      ],
      "metadata": {
        "id": "Vlcotmnc21yX"
      }
    },
    {
      "cell_type": "code",
      "source": [
        "#A, B e C\n",
        "\n",
        "import numpy as np\n",
        "\n",
        "# Parte (a): Gerar 30 números aleatórios entre 10 e 20\n",
        "producao_leite = np.random.uniform(10, 20, 30)\n",
        "\n",
        "# Parte (b): Calcular a produção total de leite das 30 vacas em um dia\n",
        "producao_total = np.sum(producao_leite)\n",
        "\n",
        "# Parte (c): Determinar quantas vacas produzem mais de 15 litros de leite por dia\n",
        "vacas_mais_15_litros = np.sum(producao_leite > 15)\n",
        "\n",
        "# Exibir os resultados\n",
        "print(f\"Produção diária de leite de cada vaca: {producao_leite}\")\n",
        "print(f\"Produção total de leite das 30 vacas em um dia: {producao_total:.2f} litros\")\n",
        "print(f\"Quantidade de vacas que produzem mais de 15 litros de leite por dia: {vacas_mais_15_litros}\")\n"
      ],
      "metadata": {
        "colab": {
          "base_uri": "https://localhost:8080/"
        },
        "id": "gJSiI-tf3KB1",
        "outputId": "a18b21a9-45c0-49a3-8f34-13ed5748139d"
      },
      "execution_count": 6,
      "outputs": [
        {
          "output_type": "stream",
          "name": "stdout",
          "text": [
            "Produção diária de leite de cada vaca: [11.40948858 19.13166004 17.54606284 19.20830364 18.43413276 17.26143173\n",
            " 18.64184058 12.62952857 15.17672939 17.34950442 13.66569476 13.50852189\n",
            " 10.96714197 18.94443499 15.01921351 12.34121628 12.83805389 10.06221272\n",
            " 16.67261934 12.66108287 18.40095226 17.97605712 14.38305396 17.42805974\n",
            " 13.48832778 12.03231073 13.85186788 18.03185894 18.6400456  11.85768613]\n",
            "Produção total de leite das 30 vacas em um dia: 459.56 litros\n",
            "Quantidade de vacas que produzem mais de 15 litros de leite por dia: 16\n"
          ]
        }
      ]
    },
    {
      "cell_type": "markdown",
      "source": [
        "#Questão 14: Uma empresa agrícola está testando a germinação de um lote de sementes. A probabilidade de uma semente germinar é de 85%.\n",
        "#a. Gere um conjunto de 100 números aleatórios entre 0 e 1 para simular a germinação das sementes.\n",
        "#b. Considere que uma semente germina se o número aleatório gerado for menor que 0,85. Quantas sementes germinaram?\n",
        "#c. Calcule a porcentagem de sementes que germinaram e compare com a probabilidade esperada de 85%."
      ],
      "metadata": {
        "id": "IXby6Yh_3KvR"
      }
    },
    {
      "cell_type": "code",
      "source": [
        "#A, B e C\n",
        "\n",
        "import numpy as np\n",
        "\n",
        "# Parte (a): Gerar 100 números aleatórios entre 0 e 1\n",
        "numeros_aleatorios = np.random.rand(100)\n",
        "\n",
        "# Parte (b): Determinar quantas sementes germinaram\n",
        "sementes_germinadas = numeros_aleatorios < 0.85\n",
        "quantidade_germinadas = np.sum(sementes_germinadas)\n",
        "\n",
        "# Parte (c): Calcular a porcentagem de sementes que germinaram\n",
        "percentual_germinadas = (quantidade_germinadas / 100) * 100\n",
        "\n",
        "# Exibir os resultados\n",
        "print(f\"Números aleatórios gerados: {numeros_aleatorios}\")\n",
        "print(f\"Sementes germinadas: {quantidade_germinadas} de 100\")\n",
        "print(f\"Percentual de sementes germinadas: {percentual_germinadas:.2f}%\")\n",
        "print(f\"Probabilidade esperada: 85.00%\")\n"
      ],
      "metadata": {
        "colab": {
          "base_uri": "https://localhost:8080/"
        },
        "id": "LpQwZ_sU3VFQ",
        "outputId": "c1645664-0e1e-47fa-c6e2-11f6eea7c5c6"
      },
      "execution_count": 7,
      "outputs": [
        {
          "output_type": "stream",
          "name": "stdout",
          "text": [
            "Números aleatórios gerados: [0.39942109 0.54057708 0.261343   0.9432003  0.21192428 0.10470775\n",
            " 0.88768512 0.20068256 0.50134621 0.37573428 0.3448321  0.57721474\n",
            " 0.78846682 0.46134354 0.20063378 0.30102814 0.29448686 0.07932011\n",
            " 0.4664243  0.81158045 0.75465777 0.25155825 0.98522986 0.67247768\n",
            " 0.5464556  0.29546999 0.15693359 0.55544875 0.13518149 0.522731\n",
            " 0.00459087 0.63559987 0.28538485 0.83529213 0.69284239 0.13913882\n",
            " 0.11682881 0.69770123 0.06361814 0.24530687 0.31118771 0.57750097\n",
            " 0.78209527 0.81053316 0.56490165 0.31545029 0.46133791 0.95649193\n",
            " 0.61212573 0.15164421 0.02415943 0.43988591 0.38755085 0.60572742\n",
            " 0.90981277 0.88024546 0.89050294 0.36697637 0.17342177 0.46434811\n",
            " 0.98998969 0.60889302 0.4163225  0.68421982 0.22516319 0.86756946\n",
            " 0.54787919 0.11815998 0.73795349 0.40379324 0.1853993  0.49713766\n",
            " 0.09510167 0.10305082 0.20850093 0.60177747 0.73065055 0.62480358\n",
            " 0.46798556 0.75283492 0.61226732 0.37066143 0.3279737  0.05749681\n",
            " 0.58971729 0.08229854 0.06743439 0.17087088 0.61718551 0.00681225\n",
            " 0.69268223 0.29569722 0.53812049 0.44501651 0.90690281 0.09646506\n",
            " 0.59100496 0.03422117 0.40207881 0.61117725]\n",
            "Sementes germinadas: 90 de 100\n",
            "Percentual de sementes germinadas: 90.00%\n",
            "Probabilidade esperada: 85.00%\n"
          ]
        }
      ]
    },
    {
      "cell_type": "markdown",
      "source": [
        "#Questão 15: Um pesquisador deseja simular o crescimento diário de uma planta de soja. Ele sabe que o crescimento diário (em centímetros) segue uma distribuição normal com média de 1 cm e desvio padrão de 0,2 cm.\n",
        "#a. Gere 10 números aleatórios que representem o crescimento diário da planta de soja durante 10 dias.\n",
        "#b. Calcule a altura total da planta após os 10 dias, assumindo que a planta tinha inicialmente 5 cm.\n",
        "#c. Qual foi o dia em que a planta teve o maior crescimento?"
      ],
      "metadata": {
        "id": "czDoRrWc3VvD"
      }
    },
    {
      "cell_type": "code",
      "source": [
        "#A, B e C\n",
        "\n",
        "import numpy as np\n",
        "\n",
        "# Parte (a): Gerar 10 números aleatórios para o crescimento diário da planta\n",
        "crescimento_diario = np.random.normal(1, 0.2, 10)\n",
        "\n",
        "# Parte (b): Calcular a altura total da planta após os 10 dias\n",
        "altura_inicial = 5\n",
        "altura_total = altura_inicial + np.sum(crescimento_diario)\n",
        "\n",
        "# Parte (c): Determinar o dia em que a planta teve o maior crescimento\n",
        "dia_maior_crescimento = np.argmax(crescimento_diario) + 1\n",
        "\n",
        "# Exibir os resultados\n",
        "print(f\"Crescimento diário da planta (em cm): {crescimento_diario}\")\n",
        "print(f\"Altura total da planta após 10 dias: {altura_total:.2f} cm\")\n",
        "print(f\"Dia com o maior crescimento: Dia {dia_maior_crescimento}\")\n"
      ],
      "metadata": {
        "colab": {
          "base_uri": "https://localhost:8080/"
        },
        "id": "5TaJvxWH3pVP",
        "outputId": "a92a378c-8ba6-4909-f674-37374beef236"
      },
      "execution_count": 8,
      "outputs": [
        {
          "output_type": "stream",
          "name": "stdout",
          "text": [
            "Crescimento diário da planta (em cm): [1.23964571 1.37119616 0.69810386 1.25249981 1.09970088 1.22665151\n",
            " 1.39899455 0.96497756 1.06153191 0.7041928 ]\n",
            "Altura total da planta após 10 dias: 16.02 cm\n",
            "Dia com o maior crescimento: Dia 7\n"
          ]
        }
      ]
    },
    {
      "cell_type": "markdown",
      "source": [
        "#Questão 16: Em uma plantação de maçãs, o peso das frutas segue uma distribuição normal com média de 150 gramas e desvio padrão de 20 gramas.\n",
        "#a. Gere 50 números aleatórios que representem os pesos das maçãs colhidas.\n",
        "#b. Calcule o peso médio das 50 maçãs geradas.\n",
        "#c. Determine quantas maçãs pesam mais de 160 gramas."
      ],
      "metadata": {
        "id": "Ns1d2Faq3p96"
      }
    },
    {
      "cell_type": "code",
      "source": [
        "#A, B e C.\n",
        "\n",
        "import numpy as np\n",
        "# Parte (a): Gerar 50 números aleatórios para os pesos das maçãs\n",
        "pesos_macas = np.random.normal(150, 20, 50)\n",
        "\n",
        "# Parte (b): Calcular o peso médio das 50 maçãs geradas\n",
        "peso_medio = np.mean(pesos_macas)\n",
        "\n",
        "# Parte (c): Determinar quantas maçãs pesam mais de 160 gramas\n",
        "macas_acima_160g = np.sum(pesos_macas > 160)\n",
        "\n",
        "# Exibir os resultados\n",
        "print(f\"Pesos das maçãs colhidas (em gramas): {pesos_macas}\")\n",
        "print(f\"Peso médio das 50 maçãs: {peso_medio:.2f} gramas\")\n",
        "print(f\"Quantidade de maçãs com peso acima de 160 gramas: {macas_acima_160g}\")\n"
      ],
      "metadata": {
        "colab": {
          "base_uri": "https://localhost:8080/"
        },
        "id": "HZECY06X33bF",
        "outputId": "7422429e-b276-4f6f-c475-3f82a941ed06"
      },
      "execution_count": 10,
      "outputs": [
        {
          "output_type": "stream",
          "name": "stdout",
          "text": [
            "Pesos das maçãs colhidas (em gramas): [180.27258259 177.44494914 149.60223722 149.7863151  138.16481169\n",
            " 154.12656889 138.13534925 173.66760158 143.0947765  124.94079879\n",
            " 161.96687322 130.72691003 136.06768869 147.80239162 164.21780243\n",
            " 178.81526737 162.68389512 162.84597084 160.70502536 172.10071729\n",
            " 104.9465797  135.36810876 151.248598    87.5039168  150.18849494\n",
            " 176.18844858 166.96959205 135.33970434 151.06161611 112.679812\n",
            " 149.24986218 153.91522709 139.0762358  167.29680942 128.32086708\n",
            " 119.45293733 150.3240276  163.62723467 152.42060197 153.45030418\n",
            " 114.88953762 172.23240495 158.5953018  160.597785   210.32661584\n",
            " 161.39779376 148.75532569 137.77132042 135.75186638 127.86490122]\n",
            "Peso médio das 50 maçãs: 149.68 gramas\n",
            "Quantidade de maçãs com peso acima de 160 gramas: 18\n"
          ]
        }
      ]
    }
  ]
}